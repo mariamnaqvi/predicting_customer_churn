{
 "cells": [
  {
   "cell_type": "markdown",
   "metadata": {},
   "source": [
    "## Predicting Customer Churn"
   ]
  },
  {
   "cell_type": "code",
   "execution_count": 1,
   "metadata": {},
   "outputs": [],
   "source": [
    "import pandas as pd\n",
    "import numpy as np\n",
    "import os\n",
    "import scipy.stats as stats\n",
    "\n",
    "# Viz imports\n",
    "import matplotlib.pyplot as plt\n",
    "import seaborn as sns\n",
    "\n",
    "# Modeling imports\n",
    "from sklearn.model_selection import train_test_split\n",
    "from sklearn.tree import DecisionTreeClassifier, plot_tree, export_text\n",
    "from sklearn.linear_model import LogisticRegression\n",
    "from sklearn.metrics import classification_report, confusion_matrix, accuracy_score\n",
    "\n",
    "# Custom module imports\n",
    "import acquire\n",
    "import prepare\n",
    "import explore\n",
    "# from model import score_models"
   ]
  },
  {
   "cell_type": "markdown",
   "metadata": {},
   "source": [
    "### Project Planning"
   ]
  },
  {
   "cell_type": "markdown",
   "metadata": {},
   "source": [
    "- Project Description\n",
    "Telco is attempting to figure out the drivers of churn amongst its customers. Churn is defined as when a customer leaves the company.\n",
    "\n",
    "- Goals\n",
    "    - Find drivers for customer churn at Telco.\n",
    "    - Construct a ML classification model that accurately predicts customer churn.\n",
    "    - Provide my findings and takeaways in a report.\n",
    "    \n",
    "- Pipeline Tasks\n",
    "    - Acquiring the data from the codeup database\n",
    "    - Taking appropriate steps to clean the dataset\n",
    "    - Splitting the data into train, validate and test dataframes\n",
    "    - Exploring the data to aid in feature selection\n",
    "    - Creating and fitting models utilizing various classification algorithms on in sample data\n",
    "    - Testing the models' accuracies on out of sample data (i.e. the validate split)\n",
    "    - Selecting the best performing model and evaluating its performance on the test split\n",
    "    \n",
    "- Data Dictionary\n",
    "\n",
    "- Starting Hypotheses\n",
    "- Create README.md with data dictionary, project and business goals, come up with initial hypotheses.\n",
    "- Acquire data from the Codeup Database and create a function to automate this process. Save the function in an acquire.py file to import into the Final Report Notebook.\n",
    "- Clean and prepare data for the first iteration through the pipeline, MVP preparation. Create a function to automate the process, store the function in a prepare.py module, and prepare data in Final Report Notebook by importing and using the funtion.\n",
    "- Clearly define two hypotheses, set an alpha, run the statistical tests needed, reject or fail to reject the Null Hypothesis, and document findings and takeaways.\n",
    "- Establish a baseline accuracy and document well.\n",
    "- Train three different classification models.\n",
    "- Evaluate models on train and validate datasets.\n",
    "- Choose the model with that performs the best and evaluate that single model on the test dataset.\n",
    "- Create csv file with the customer id, the probability of the target values, and the model's prediction for each observation in my test dataset.\n",
    "- Document conclusions, takeaways, and next steps in the Final Report Notebook."
   ]
  },
  {
   "cell_type": "markdown",
   "metadata": {},
   "source": [
    "### Executive Summary - Conclusions & Next Steps¶"
   ]
  },
  {
   "cell_type": "markdown",
   "metadata": {},
   "source": [
    "- I found that all of the classification models I created, LogisticRegression, DecisionTree, RandomForest, and KNeighbors predicted the species of Iris equally well using the features sepal_width, sepal_length, petal_length, petal_width.\n",
    "- I chose my DecisionTree model as my best model with a 90% accuracy rate for predicting my target value, species. This model outperformed my baseline score of 33% accuracy, so it has value.\n",
    "- Some initial exploration and statistical testing revealed that engineering some new features like petal area or sepal area might help my models predict with even more accuracy, and with more time, I would like to test this hypothesis."
   ]
  },
  {
   "cell_type": "markdown",
   "metadata": {},
   "source": [
    "### Acquire Data\n"
   ]
  },
  {
   "cell_type": "code",
   "execution_count": 2,
   "metadata": {},
   "outputs": [
    {
     "data": {
      "text/html": [
       "<style>\n",
       "  table {margin-left: 0 !important;}\n",
       "</style>\n"
      ],
      "text/plain": [
       "<IPython.core.display.HTML object>"
      ]
     },
     "metadata": {},
     "output_type": "display_data"
    }
   ],
   "source": [
    "%%html\n",
    "<style>\n",
    "  table {margin-left: 0 !important;}\n",
    "</style>\n"
   ]
  },
  {
   "cell_type": "code",
   "execution_count": 3,
   "metadata": {},
   "outputs": [
    {
     "data": {
      "text/html": [
       "<style>\n",
       "  table {margin-left: 0 !important;}\n",
       "</style>\n",
       "|Target|Datatype|Definition|,\n",
       "|:-------|:--------|:----------|,\n",
       "| species | 150 non-null: object | iris species - virginica, versicolor, setosa |\n",
       "|Feature|Datatype|Definition|\n",
       "|:-------|:--------|:----------|\n",
       "| petal_length       | 150 non-null: float64 |    iris petal length in cm |\n",
       "| petal_width        | 150 non-null: float64 |    iris petal width in cm |\n",
       "| sepal_length       | 150 non-null: float64 |    iris sepal length in cm |\n"
      ],
      "text/plain": [
       "<IPython.core.display.HTML object>"
      ]
     },
     "metadata": {},
     "output_type": "display_data"
    }
   ],
   "source": [
    "%%html\n",
    "<style>\n",
    "  table {margin-left: 0 !important;}\n",
    "</style>\n",
    "|Target|Datatype|Definition|,\n",
    "|:-------|:--------|:----------|,\n",
    "| species | 150 non-null: object | iris species - virginica, versicolor, setosa |\n",
    "|Feature|Datatype|Definition|\n",
    "|:-------|:--------|:----------|\n",
    "| petal_length       | 150 non-null: float64 |    iris petal length in cm |\n",
    "| petal_width        | 150 non-null: float64 |    iris petal width in cm |\n",
    "| sepal_length       | 150 non-null: float64 |    iris sepal length in cm |\n"
   ]
  },
  {
   "cell_type": "code",
   "execution_count": 2,
   "metadata": {},
   "outputs": [],
   "source": [
    "# set options to display all columns and rows\n",
    "pd.set_option('display.max_columns', None)\n",
    "pd.set_option('display.max_rows', None)"
   ]
  },
  {
   "cell_type": "code",
   "execution_count": 3,
   "metadata": {},
   "outputs": [
    {
     "data": {
      "text/html": [
       "<div>\n",
       "<style scoped>\n",
       "    .dataframe tbody tr th:only-of-type {\n",
       "        vertical-align: middle;\n",
       "    }\n",
       "\n",
       "    .dataframe tbody tr th {\n",
       "        vertical-align: top;\n",
       "    }\n",
       "\n",
       "    .dataframe thead th {\n",
       "        text-align: right;\n",
       "    }\n",
       "</style>\n",
       "<table border=\"1\" class=\"dataframe\">\n",
       "  <thead>\n",
       "    <tr style=\"text-align: right;\">\n",
       "      <th></th>\n",
       "      <th>payment_type_id</th>\n",
       "      <th>internet_service_type_id</th>\n",
       "      <th>contract_type_id</th>\n",
       "      <th>customer_id</th>\n",
       "      <th>gender</th>\n",
       "      <th>senior_citizen</th>\n",
       "      <th>partner</th>\n",
       "      <th>dependents</th>\n",
       "      <th>tenure</th>\n",
       "      <th>phone_service</th>\n",
       "      <th>multiple_lines</th>\n",
       "      <th>online_security</th>\n",
       "      <th>online_backup</th>\n",
       "      <th>device_protection</th>\n",
       "      <th>tech_support</th>\n",
       "      <th>streaming_tv</th>\n",
       "      <th>streaming_movies</th>\n",
       "      <th>paperless_billing</th>\n",
       "      <th>monthly_charges</th>\n",
       "      <th>total_charges</th>\n",
       "      <th>churn</th>\n",
       "      <th>contract_type</th>\n",
       "      <th>internet_service_type</th>\n",
       "      <th>payment_type</th>\n",
       "    </tr>\n",
       "  </thead>\n",
       "  <tbody>\n",
       "    <tr>\n",
       "      <th>0</th>\n",
       "      <td>2</td>\n",
       "      <td>1</td>\n",
       "      <td>3</td>\n",
       "      <td>0016-QLJIS</td>\n",
       "      <td>Female</td>\n",
       "      <td>0</td>\n",
       "      <td>Yes</td>\n",
       "      <td>Yes</td>\n",
       "      <td>65</td>\n",
       "      <td>Yes</td>\n",
       "      <td>Yes</td>\n",
       "      <td>Yes</td>\n",
       "      <td>Yes</td>\n",
       "      <td>Yes</td>\n",
       "      <td>Yes</td>\n",
       "      <td>Yes</td>\n",
       "      <td>Yes</td>\n",
       "      <td>Yes</td>\n",
       "      <td>90.45</td>\n",
       "      <td>5957.9</td>\n",
       "      <td>No</td>\n",
       "      <td>Two year</td>\n",
       "      <td>DSL</td>\n",
       "      <td>Mailed check</td>\n",
       "    </tr>\n",
       "    <tr>\n",
       "      <th>1</th>\n",
       "      <td>4</td>\n",
       "      <td>1</td>\n",
       "      <td>3</td>\n",
       "      <td>0017-DINOC</td>\n",
       "      <td>Male</td>\n",
       "      <td>0</td>\n",
       "      <td>No</td>\n",
       "      <td>No</td>\n",
       "      <td>54</td>\n",
       "      <td>No</td>\n",
       "      <td>No phone service</td>\n",
       "      <td>Yes</td>\n",
       "      <td>No</td>\n",
       "      <td>No</td>\n",
       "      <td>Yes</td>\n",
       "      <td>Yes</td>\n",
       "      <td>No</td>\n",
       "      <td>No</td>\n",
       "      <td>45.20</td>\n",
       "      <td>2460.55</td>\n",
       "      <td>No</td>\n",
       "      <td>Two year</td>\n",
       "      <td>DSL</td>\n",
       "      <td>Credit card (automatic)</td>\n",
       "    </tr>\n",
       "    <tr>\n",
       "      <th>2</th>\n",
       "      <td>3</td>\n",
       "      <td>1</td>\n",
       "      <td>3</td>\n",
       "      <td>0019-GFNTW</td>\n",
       "      <td>Female</td>\n",
       "      <td>0</td>\n",
       "      <td>No</td>\n",
       "      <td>No</td>\n",
       "      <td>56</td>\n",
       "      <td>No</td>\n",
       "      <td>No phone service</td>\n",
       "      <td>Yes</td>\n",
       "      <td>Yes</td>\n",
       "      <td>Yes</td>\n",
       "      <td>Yes</td>\n",
       "      <td>No</td>\n",
       "      <td>No</td>\n",
       "      <td>No</td>\n",
       "      <td>45.05</td>\n",
       "      <td>2560.1</td>\n",
       "      <td>No</td>\n",
       "      <td>Two year</td>\n",
       "      <td>DSL</td>\n",
       "      <td>Bank transfer (automatic)</td>\n",
       "    </tr>\n",
       "    <tr>\n",
       "      <th>3</th>\n",
       "      <td>4</td>\n",
       "      <td>1</td>\n",
       "      <td>3</td>\n",
       "      <td>0056-EPFBG</td>\n",
       "      <td>Male</td>\n",
       "      <td>0</td>\n",
       "      <td>Yes</td>\n",
       "      <td>Yes</td>\n",
       "      <td>20</td>\n",
       "      <td>No</td>\n",
       "      <td>No phone service</td>\n",
       "      <td>Yes</td>\n",
       "      <td>No</td>\n",
       "      <td>Yes</td>\n",
       "      <td>Yes</td>\n",
       "      <td>No</td>\n",
       "      <td>No</td>\n",
       "      <td>Yes</td>\n",
       "      <td>39.40</td>\n",
       "      <td>825.4</td>\n",
       "      <td>No</td>\n",
       "      <td>Two year</td>\n",
       "      <td>DSL</td>\n",
       "      <td>Credit card (automatic)</td>\n",
       "    </tr>\n",
       "    <tr>\n",
       "      <th>4</th>\n",
       "      <td>3</td>\n",
       "      <td>1</td>\n",
       "      <td>3</td>\n",
       "      <td>0078-XZMHT</td>\n",
       "      <td>Male</td>\n",
       "      <td>0</td>\n",
       "      <td>Yes</td>\n",
       "      <td>No</td>\n",
       "      <td>72</td>\n",
       "      <td>Yes</td>\n",
       "      <td>Yes</td>\n",
       "      <td>No</td>\n",
       "      <td>Yes</td>\n",
       "      <td>Yes</td>\n",
       "      <td>Yes</td>\n",
       "      <td>Yes</td>\n",
       "      <td>Yes</td>\n",
       "      <td>Yes</td>\n",
       "      <td>85.15</td>\n",
       "      <td>6316.2</td>\n",
       "      <td>No</td>\n",
       "      <td>Two year</td>\n",
       "      <td>DSL</td>\n",
       "      <td>Bank transfer (automatic)</td>\n",
       "    </tr>\n",
       "  </tbody>\n",
       "</table>\n",
       "</div>"
      ],
      "text/plain": [
       "   payment_type_id  internet_service_type_id  contract_type_id customer_id  \\\n",
       "0                2                         1                 3  0016-QLJIS   \n",
       "1                4                         1                 3  0017-DINOC   \n",
       "2                3                         1                 3  0019-GFNTW   \n",
       "3                4                         1                 3  0056-EPFBG   \n",
       "4                3                         1                 3  0078-XZMHT   \n",
       "\n",
       "   gender  senior_citizen partner dependents  tenure phone_service  \\\n",
       "0  Female               0     Yes        Yes      65           Yes   \n",
       "1    Male               0      No         No      54            No   \n",
       "2  Female               0      No         No      56            No   \n",
       "3    Male               0     Yes        Yes      20            No   \n",
       "4    Male               0     Yes         No      72           Yes   \n",
       "\n",
       "     multiple_lines online_security online_backup device_protection  \\\n",
       "0               Yes             Yes           Yes               Yes   \n",
       "1  No phone service             Yes            No                No   \n",
       "2  No phone service             Yes           Yes               Yes   \n",
       "3  No phone service             Yes            No               Yes   \n",
       "4               Yes              No           Yes               Yes   \n",
       "\n",
       "  tech_support streaming_tv streaming_movies paperless_billing  \\\n",
       "0          Yes          Yes              Yes               Yes   \n",
       "1          Yes          Yes               No                No   \n",
       "2          Yes           No               No                No   \n",
       "3          Yes           No               No               Yes   \n",
       "4          Yes          Yes              Yes               Yes   \n",
       "\n",
       "   monthly_charges total_charges churn contract_type internet_service_type  \\\n",
       "0            90.45        5957.9    No      Two year                   DSL   \n",
       "1            45.20       2460.55    No      Two year                   DSL   \n",
       "2            45.05        2560.1    No      Two year                   DSL   \n",
       "3            39.40         825.4    No      Two year                   DSL   \n",
       "4            85.15        6316.2    No      Two year                   DSL   \n",
       "\n",
       "                payment_type  \n",
       "0               Mailed check  \n",
       "1    Credit card (automatic)  \n",
       "2  Bank transfer (automatic)  \n",
       "3    Credit card (automatic)  \n",
       "4  Bank transfer (automatic)  "
      ]
     },
     "execution_count": 3,
     "metadata": {},
     "output_type": "execute_result"
    }
   ],
   "source": [
    "# read telco data into a dataframe\n",
    "telco_df = acquire.get_telco_data()\n",
    "telco_df.head()"
   ]
  },
  {
   "cell_type": "code",
   "execution_count": 32,
   "metadata": {},
   "outputs": [],
   "source": []
  },
  {
   "cell_type": "code",
   "execution_count": 6,
   "metadata": {},
   "outputs": [
    {
     "name": "stdout",
     "output_type": "stream",
     "text": [
      "The telco dataframe has\u001b[1m 7043 rows and 24 columns \u001b[0m.\n",
      "\n",
      "There are total of 0 missing values in the entire dataframe.\n",
      "\n",
      "\u001b[1m Here are the first 5 rows of our dataset \u001b[0m\n",
      "\n",
      "   payment_type_id  internet_service_type_id  contract_type_id customer_id  \\\n",
      "0                2                         1                 3  0016-QLJIS   \n",
      "1                4                         1                 3  0017-DINOC   \n",
      "2                3                         1                 3  0019-GFNTW   \n",
      "3                4                         1                 3  0056-EPFBG   \n",
      "4                3                         1                 3  0078-XZMHT   \n",
      "\n",
      "   gender  senior_citizen partner dependents  tenure phone_service  ...  \\\n",
      "0  Female               0     Yes        Yes      65           Yes  ...   \n",
      "1    Male               0      No         No      54            No  ...   \n",
      "2  Female               0      No         No      56            No  ...   \n",
      "3    Male               0     Yes        Yes      20            No  ...   \n",
      "4    Male               0     Yes         No      72           Yes  ...   \n",
      "\n",
      "  tech_support streaming_tv streaming_movies paperless_billing  \\\n",
      "0          Yes          Yes              Yes               Yes   \n",
      "1          Yes          Yes               No                No   \n",
      "2          Yes           No               No                No   \n",
      "3          Yes           No               No               Yes   \n",
      "4          Yes          Yes              Yes               Yes   \n",
      "\n",
      "  monthly_charges total_charges churn contract_type  internet_service_type  \\\n",
      "0           90.45        5957.9    No      Two year                    DSL   \n",
      "1           45.20       2460.55    No      Two year                    DSL   \n",
      "2           45.05        2560.1    No      Two year                    DSL   \n",
      "3           39.40         825.4    No      Two year                    DSL   \n",
      "4           85.15        6316.2    No      Two year                    DSL   \n",
      "\n",
      "                payment_type  \n",
      "0               Mailed check  \n",
      "1    Credit card (automatic)  \n",
      "2  Bank transfer (automatic)  \n",
      "3    Credit card (automatic)  \n",
      "4  Bank transfer (automatic)  \n",
      "\n",
      "[5 rows x 24 columns]\n",
      "<class 'pandas.core.frame.DataFrame'>\n",
      "RangeIndex: 7043 entries, 0 to 7042\n",
      "Data columns (total 24 columns):\n",
      " #   Column                    Non-Null Count  Dtype  \n",
      "---  ------                    --------------  -----  \n",
      " 0   payment_type_id           7043 non-null   int64  \n",
      " 1   internet_service_type_id  7043 non-null   int64  \n",
      " 2   contract_type_id          7043 non-null   int64  \n",
      " 3   customer_id               7043 non-null   object \n",
      " 4   gender                    7043 non-null   object \n",
      " 5   senior_citizen            7043 non-null   int64  \n",
      " 6   partner                   7043 non-null   object \n",
      " 7   dependents                7043 non-null   object \n",
      " 8   tenure                    7043 non-null   int64  \n",
      " 9   phone_service             7043 non-null   object \n",
      " 10  multiple_lines            7043 non-null   object \n",
      " 11  online_security           7043 non-null   object \n",
      " 12  online_backup             7043 non-null   object \n",
      " 13  device_protection         7043 non-null   object \n",
      " 14  tech_support              7043 non-null   object \n",
      " 15  streaming_tv              7043 non-null   object \n",
      " 16  streaming_movies          7043 non-null   object \n",
      " 17  paperless_billing         7043 non-null   object \n",
      " 18  monthly_charges           7043 non-null   float64\n",
      " 19  total_charges             7043 non-null   object \n",
      " 20  churn                     7043 non-null   object \n",
      " 21  contract_type             7043 non-null   object \n",
      " 22  internet_service_type     7043 non-null   object \n",
      " 23  payment_type              7043 non-null   object \n",
      "dtypes: float64(1), int64(5), object(18)\n",
      "memory usage: 1.3+ MB\n",
      "None\n",
      "\n",
      "Here are the numeric columns in the dataframe\n",
      "['customer_id', 'gender', 'partner', 'dependents', 'phone_service', 'multiple_lines', 'online_security', 'online_backup', 'device_protection', 'tech_support', 'streaming_tv', 'streaming_movies', 'paperless_billing', 'total_charges', 'churn', 'contract_type', 'internet_service_type', 'payment_type']\n",
      "Here are the object columns in the dataframe: None\n",
      "\u001b[1m Here are the summary statistics of our dataset \u001b[0m\n",
      "       payment_type_id  internet_service_type_id  contract_type_id  \\\n",
      "count      7043.000000               7043.000000       7043.000000   \n",
      "mean          2.315633                  1.872923          1.690473   \n",
      "std           1.148907                  0.737796          0.833755   \n",
      "min           1.000000                  1.000000          1.000000   \n",
      "25%           1.000000                  1.000000          1.000000   \n",
      "50%           2.000000                  2.000000          1.000000   \n",
      "75%           3.000000                  2.000000          2.000000   \n",
      "max           4.000000                  3.000000          3.000000   \n",
      "\n",
      "       senior_citizen       tenure  monthly_charges  \n",
      "count     7043.000000  7043.000000      7043.000000  \n",
      "mean         0.162147    32.371149        64.761692  \n",
      "std          0.368612    24.559481        30.090047  \n",
      "min          0.000000     0.000000        18.250000  \n",
      "25%          0.000000     9.000000        35.500000  \n",
      "50%          0.000000    29.000000        70.350000  \n",
      "75%          0.000000    55.000000        89.850000  \n",
      "max          1.000000    72.000000       118.750000  \n",
      "Here are the categories and their relative proportions\n",
      "1    2365\n",
      "2    1612\n",
      "3    1544\n",
      "4    1522\n",
      "Name: payment_type_id, dtype: int64\n",
      "-------------------\n",
      "\n",
      "proportions of payment_type_id\n",
      "\n",
      "1    0.335794\n",
      "2    0.228880\n",
      "3    0.219225\n",
      "4    0.216101\n",
      "Name: payment_type_id, dtype: float64\n",
      "-------------------\n",
      "2    3096\n",
      "1    2421\n",
      "3    1526\n",
      "Name: internet_service_type_id, dtype: int64\n",
      "-------------------\n",
      "\n",
      "proportions of internet_service_type_id\n",
      "\n",
      "2    0.439585\n",
      "1    0.343746\n",
      "3    0.216669\n",
      "Name: internet_service_type_id, dtype: float64\n",
      "-------------------\n",
      "1    3875\n",
      "3    1695\n",
      "2    1473\n",
      "Name: contract_type_id, dtype: int64\n",
      "-------------------\n",
      "\n",
      "proportions of contract_type_id\n",
      "\n",
      "1    0.550192\n",
      "3    0.240664\n",
      "2    0.209144\n",
      "Name: contract_type_id, dtype: float64\n",
      "-------------------\n",
      "6194-HBGQN    1\n",
      "6137-NICCO    1\n",
      "2576-HXMPA    1\n",
      "0853-TWRVK    1\n",
      "5792-JALQC    1\n",
      "             ..\n",
      "2027-DNKIV    1\n",
      "4199-QHJNM    1\n",
      "7471-WNSUF    1\n",
      "0263-FJTQO    1\n",
      "0423-UDIJQ    1\n",
      "Name: customer_id, Length: 7043, dtype: int64\n",
      "-------------------\n",
      "\n",
      "proportions of customer_id\n",
      "\n",
      "6194-HBGQN    0.000142\n",
      "6137-NICCO    0.000142\n",
      "2576-HXMPA    0.000142\n",
      "0853-TWRVK    0.000142\n",
      "5792-JALQC    0.000142\n",
      "                ...   \n",
      "2027-DNKIV    0.000142\n",
      "4199-QHJNM    0.000142\n",
      "7471-WNSUF    0.000142\n",
      "0263-FJTQO    0.000142\n",
      "0423-UDIJQ    0.000142\n",
      "Name: customer_id, Length: 7043, dtype: float64\n",
      "-------------------\n",
      "Male      3555\n",
      "Female    3488\n",
      "Name: gender, dtype: int64\n",
      "-------------------\n",
      "\n",
      "proportions of gender\n",
      "\n",
      "Male      0.504756\n",
      "Female    0.495244\n",
      "Name: gender, dtype: float64\n",
      "-------------------\n",
      "0    5901\n",
      "1    1142\n",
      "Name: senior_citizen, dtype: int64\n",
      "-------------------\n",
      "\n",
      "proportions of senior_citizen\n",
      "\n",
      "0    0.837853\n",
      "1    0.162147\n",
      "Name: senior_citizen, dtype: float64\n",
      "-------------------\n",
      "No     3641\n",
      "Yes    3402\n",
      "Name: partner, dtype: int64\n",
      "-------------------\n",
      "\n",
      "proportions of partner\n",
      "\n",
      "No     0.516967\n",
      "Yes    0.483033\n",
      "Name: partner, dtype: float64\n",
      "-------------------\n",
      "No     4933\n",
      "Yes    2110\n",
      "Name: dependents, dtype: int64\n",
      "-------------------\n",
      "\n",
      "proportions of dependents\n",
      "\n",
      "No     0.700412\n",
      "Yes    0.299588\n",
      "Name: dependents, dtype: float64\n",
      "-------------------\n",
      "1     613\n",
      "72    362\n",
      "2     238\n",
      "3     200\n",
      "4     176\n",
      "71    170\n",
      "5     133\n",
      "7     131\n",
      "8     123\n",
      "70    119\n",
      "9     119\n",
      "12    117\n",
      "10    116\n",
      "6     110\n",
      "13    109\n",
      "68    100\n",
      "15     99\n",
      "11     99\n",
      "67     98\n",
      "18     97\n",
      "69     95\n",
      "24     94\n",
      "22     90\n",
      "66     89\n",
      "35     88\n",
      "17     87\n",
      "23     85\n",
      "64     80\n",
      "56     80\n",
      "16     80\n",
      "52     80\n",
      "25     79\n",
      "26     79\n",
      "14     76\n",
      "65     76\n",
      "61     76\n",
      "60     76\n",
      "46     74\n",
      "19     73\n",
      "63     72\n",
      "29     72\n",
      "27     72\n",
      "30     72\n",
      "20     71\n",
      "62     70\n",
      "41     70\n",
      "53     70\n",
      "32     69\n",
      "54     68\n",
      "47     68\n",
      "50     68\n",
      "51     68\n",
      "58     67\n",
      "49     66\n",
      "43     65\n",
      "42     65\n",
      "31     65\n",
      "34     65\n",
      "37     65\n",
      "57     65\n",
      "55     64\n",
      "40     64\n",
      "48     64\n",
      "33     64\n",
      "21     63\n",
      "45     61\n",
      "59     60\n",
      "38     59\n",
      "28     57\n",
      "39     56\n",
      "44     51\n",
      "36     50\n",
      "0      11\n",
      "Name: tenure, dtype: int64\n",
      "-------------------\n",
      "\n",
      "proportions of tenure\n",
      "\n",
      "1     0.087037\n",
      "72    0.051399\n",
      "2     0.033792\n",
      "3     0.028397\n",
      "4     0.024989\n",
      "71    0.024137\n",
      "5     0.018884\n",
      "7     0.018600\n",
      "8     0.017464\n",
      "70    0.016896\n",
      "9     0.016896\n",
      "12    0.016612\n",
      "10    0.016470\n",
      "6     0.015618\n",
      "13    0.015476\n",
      "68    0.014198\n",
      "15    0.014057\n",
      "11    0.014057\n",
      "67    0.013915\n",
      "18    0.013773\n",
      "69    0.013489\n",
      "24    0.013347\n",
      "22    0.012779\n",
      "66    0.012637\n",
      "35    0.012495\n",
      "17    0.012353\n",
      "23    0.012069\n",
      "64    0.011359\n",
      "56    0.011359\n",
      "16    0.011359\n",
      "52    0.011359\n",
      "25    0.011217\n",
      "26    0.011217\n",
      "14    0.010791\n",
      "65    0.010791\n",
      "61    0.010791\n",
      "60    0.010791\n",
      "46    0.010507\n",
      "19    0.010365\n",
      "63    0.010223\n",
      "29    0.010223\n",
      "27    0.010223\n",
      "30    0.010223\n",
      "20    0.010081\n",
      "62    0.009939\n",
      "41    0.009939\n",
      "53    0.009939\n",
      "32    0.009797\n",
      "54    0.009655\n",
      "47    0.009655\n",
      "50    0.009655\n",
      "51    0.009655\n",
      "58    0.009513\n",
      "49    0.009371\n",
      "43    0.009229\n",
      "42    0.009229\n",
      "31    0.009229\n",
      "34    0.009229\n",
      "37    0.009229\n",
      "57    0.009229\n",
      "55    0.009087\n",
      "40    0.009087\n",
      "48    0.009087\n",
      "33    0.009087\n",
      "21    0.008945\n",
      "45    0.008661\n",
      "59    0.008519\n",
      "38    0.008377\n",
      "28    0.008093\n",
      "39    0.007951\n",
      "44    0.007241\n",
      "36    0.007099\n",
      "0     0.001562\n",
      "Name: tenure, dtype: float64\n",
      "-------------------\n",
      "Yes    6361\n",
      "No      682\n",
      "Name: phone_service, dtype: int64\n",
      "-------------------\n",
      "\n",
      "proportions of phone_service\n",
      "\n",
      "Yes    0.903166\n",
      "No     0.096834\n",
      "Name: phone_service, dtype: float64\n",
      "-------------------\n",
      "No                  3390\n",
      "Yes                 2971\n",
      "No phone service     682\n",
      "Name: multiple_lines, dtype: int64\n",
      "-------------------\n",
      "\n",
      "proportions of multiple_lines\n",
      "\n",
      "No                  0.481329\n",
      "Yes                 0.421837\n",
      "No phone service    0.096834\n",
      "Name: multiple_lines, dtype: float64\n",
      "-------------------\n",
      "No                     3498\n",
      "Yes                    2019\n",
      "No internet service    1526\n",
      "Name: online_security, dtype: int64\n",
      "-------------------\n",
      "\n",
      "proportions of online_security\n",
      "\n",
      "No                     0.496663\n",
      "Yes                    0.286668\n",
      "No internet service    0.216669\n",
      "Name: online_security, dtype: float64\n",
      "-------------------\n",
      "No                     3088\n",
      "Yes                    2429\n",
      "No internet service    1526\n",
      "Name: online_backup, dtype: int64\n",
      "-------------------\n",
      "\n",
      "proportions of online_backup\n",
      "\n",
      "No                     0.438450\n",
      "Yes                    0.344881\n",
      "No internet service    0.216669\n",
      "Name: online_backup, dtype: float64\n",
      "-------------------\n",
      "No                     3095\n",
      "Yes                    2422\n",
      "No internet service    1526\n",
      "Name: device_protection, dtype: int64\n",
      "-------------------\n",
      "\n",
      "proportions of device_protection\n",
      "\n",
      "No                     0.439443\n",
      "Yes                    0.343888\n",
      "No internet service    0.216669\n",
      "Name: device_protection, dtype: float64\n",
      "-------------------\n",
      "No                     3473\n",
      "Yes                    2044\n",
      "No internet service    1526\n",
      "Name: tech_support, dtype: int64\n",
      "-------------------\n",
      "\n",
      "proportions of tech_support\n",
      "\n",
      "No                     0.493114\n",
      "Yes                    0.290217\n",
      "No internet service    0.216669\n",
      "Name: tech_support, dtype: float64\n",
      "-------------------\n",
      "No                     2810\n",
      "Yes                    2707\n",
      "No internet service    1526\n",
      "Name: streaming_tv, dtype: int64\n",
      "-------------------\n",
      "\n",
      "proportions of streaming_tv\n",
      "\n",
      "No                     0.398978\n",
      "Yes                    0.384353\n",
      "No internet service    0.216669\n",
      "Name: streaming_tv, dtype: float64\n",
      "-------------------\n",
      "No                     2785\n",
      "Yes                    2732\n",
      "No internet service    1526\n",
      "Name: streaming_movies, dtype: int64\n",
      "-------------------\n",
      "\n",
      "proportions of streaming_movies\n",
      "\n",
      "No                     0.395428\n",
      "Yes                    0.387903\n",
      "No internet service    0.216669\n",
      "Name: streaming_movies, dtype: float64\n",
      "-------------------\n",
      "Yes    4171\n",
      "No     2872\n",
      "Name: paperless_billing, dtype: int64\n",
      "-------------------\n",
      "\n",
      "proportions of paperless_billing\n",
      "\n",
      "Yes    0.592219\n",
      "No     0.407781\n",
      "Name: paperless_billing, dtype: float64\n",
      "-------------------\n",
      "20.05     61\n",
      "19.85     45\n",
      "19.95     44\n",
      "19.90     44\n",
      "20.00     43\n",
      "          ..\n",
      "56.85      1\n",
      "92.65      1\n",
      "109.85     1\n",
      "35.70      1\n",
      "61.95      1\n",
      "Name: monthly_charges, Length: 1585, dtype: int64\n",
      "-------------------\n",
      "\n",
      "proportions of monthly_charges\n",
      "\n",
      "20.05     0.008661\n",
      "19.85     0.006389\n",
      "19.95     0.006247\n",
      "19.90     0.006247\n",
      "20.00     0.006105\n",
      "            ...   \n",
      "56.85     0.000142\n",
      "92.65     0.000142\n",
      "109.85    0.000142\n",
      "35.70     0.000142\n",
      "61.95     0.000142\n",
      "Name: monthly_charges, Length: 1585, dtype: float64\n",
      "-------------------\n",
      "20.2       11\n",
      "           11\n",
      "19.75       9\n",
      "20.05       8\n",
      "19.65       8\n",
      "           ..\n",
      "1182.55     1\n",
      "1068.85     1\n",
      "129.6       1\n",
      "141.45      1\n",
      "1559.25     1\n",
      "Name: total_charges, Length: 6531, dtype: int64\n",
      "-------------------\n",
      "\n",
      "proportions of total_charges\n",
      "\n",
      "20.2       0.001562\n",
      "           0.001562\n",
      "19.75      0.001278\n",
      "20.05      0.001136\n",
      "19.65      0.001136\n",
      "             ...   \n",
      "1182.55    0.000142\n",
      "1068.85    0.000142\n",
      "129.6      0.000142\n",
      "141.45     0.000142\n",
      "1559.25    0.000142\n",
      "Name: total_charges, Length: 6531, dtype: float64\n",
      "-------------------\n",
      "No     5174\n",
      "Yes    1869\n",
      "Name: churn, dtype: int64\n",
      "-------------------\n",
      "\n",
      "proportions of churn\n",
      "\n",
      "No     0.73463\n",
      "Yes    0.26537\n",
      "Name: churn, dtype: float64\n",
      "-------------------\n",
      "Month-to-month    3875\n",
      "Two year          1695\n",
      "One year          1473\n",
      "Name: contract_type, dtype: int64\n",
      "-------------------\n",
      "\n",
      "proportions of contract_type\n",
      "\n",
      "Month-to-month    0.550192\n",
      "Two year          0.240664\n",
      "One year          0.209144\n",
      "Name: contract_type, dtype: float64\n",
      "-------------------\n",
      "Fiber optic    3096\n",
      "DSL            2421\n",
      "None           1526\n",
      "Name: internet_service_type, dtype: int64\n",
      "-------------------\n",
      "\n",
      "proportions of internet_service_type\n",
      "\n",
      "Fiber optic    0.439585\n",
      "DSL            0.343746\n",
      "None           0.216669\n",
      "Name: internet_service_type, dtype: float64\n",
      "-------------------\n",
      "Electronic check             2365\n",
      "Mailed check                 1612\n",
      "Bank transfer (automatic)    1544\n",
      "Credit card (automatic)      1522\n",
      "Name: payment_type, dtype: int64\n",
      "-------------------\n",
      "\n",
      "proportions of payment_type\n",
      "\n",
      "Electronic check             0.335794\n",
      "Mailed check                 0.228880\n",
      "Bank transfer (automatic)    0.219225\n",
      "Credit card (automatic)      0.216101\n",
      "Name: payment_type, dtype: float64\n",
      "-------------------\n"
     ]
    }
   ],
   "source": [
    "# describes the df, object and numeric cols\n",
    "acquire.get_data_summary(telco_df)"
   ]
  },
  {
   "cell_type": "markdown",
   "metadata": {},
   "source": [
    "### Acquire Takeaways:\n",
    "- Churn is our target variable\n",
    "- payment_type_id == payment type. We will keep the payment type id column since that is numeric\n",
    "- We will encode payment type to show the different payment types as numeric\n",
    "- internet_service type id column is the same as internet service type column. We will keep the internet service type id column since that is numeric\n",
    "- contract type id column is the same as contract type column. We will keep the contract type id column since that is numeric  and encode the contract type column to check for each contract category\n",
    "- binary categorical columns like gender, partner, dependents will have to be encoded to be numeric\n",
    "- total charges column has an object dtype - will have to change to float\n",
    "- customer id column is not particulary useful but since we need to provide predictions using customer id we will keep it\n",
    "- Some customers had no total charges -  this was where the tenure was 0 so must be new customers"
   ]
  },
  {
   "cell_type": "markdown",
   "metadata": {},
   "source": [
    "### Prepare Data"
   ]
  },
  {
   "cell_type": "code",
   "execution_count": 5,
   "metadata": {},
   "outputs": [
    {
     "name": "stdout",
     "output_type": "stream",
     "text": [
      "There are no duplicate rows in your dataset.\n",
      "Total charges has been converted from object to a float data type.\n",
      "<class 'pandas.core.frame.DataFrame'>\n",
      "Int64Index: 3943 entries, 5642 to 6840\n",
      "Data columns (total 23 columns):\n",
      " #   Column                 Non-Null Count  Dtype  \n",
      "---  ------                 --------------  -----  \n",
      " 0   payment_type_id        3943 non-null   int64  \n",
      " 1   customer_id            3943 non-null   object \n",
      " 2   senior_citizen         3943 non-null   int64  \n",
      " 3   tenure                 3943 non-null   int64  \n",
      " 4   monthly_charges        3943 non-null   float64\n",
      " 5   total_charges          3943 non-null   float64\n",
      " 6   en_contract_type       3943 non-null   int64  \n",
      " 7   en_multiple_lines      3943 non-null   int64  \n",
      " 8   en_has_fiber           3943 non-null   int64  \n",
      " 9   en_has_DSL             3943 non-null   int64  \n",
      " 10  has_internet           3943 non-null   int64  \n",
      " 11  en_online_security     3943 non-null   int64  \n",
      " 12  en_online_backup       3943 non-null   int64  \n",
      " 13  en_device_protection   3943 non-null   int64  \n",
      " 14  en_tech_support        3943 non-null   int64  \n",
      " 15  en_streaming_tv        3943 non-null   int64  \n",
      " 16  en_streaming_movies    3943 non-null   int64  \n",
      " 17  gender_Male            3943 non-null   uint8  \n",
      " 18  has_partner            3943 non-null   uint8  \n",
      " 19  has_dependents         3943 non-null   uint8  \n",
      " 20  has_phone_service      3943 non-null   uint8  \n",
      " 21  has_paperless_billing  3943 non-null   uint8  \n",
      " 22  churned                3943 non-null   uint8  \n",
      "dtypes: float64(2), int64(14), object(1), uint8(6)\n",
      "memory usage: 577.6+ KB\n",
      "\n",
      "    Shape of train split: (3943, 23)\n",
      "    Shape of test split: (3943, 23)\n",
      "    Shape of validate split: (3943, 23)\n",
      "\n",
      "    None\n",
      "     \n"
     ]
    }
   ],
   "source": [
    "train, validate, test = prepare.prep_telco_data(telco_df)"
   ]
  },
  {
   "cell_type": "code",
   "execution_count": 9,
   "metadata": {},
   "outputs": [
    {
     "data": {
      "text/plain": [
       "['payment_type_id',\n",
       " 'customer_id',\n",
       " 'senior_citizen',\n",
       " 'tenure',\n",
       " 'monthly_charges',\n",
       " 'total_charges',\n",
       " 'en_contract_type',\n",
       " 'en_multiple_lines',\n",
       " 'en_has_fiber',\n",
       " 'en_has_DSL',\n",
       " 'has_internet',\n",
       " 'en_online_security',\n",
       " 'en_online_backup',\n",
       " 'en_device_protection',\n",
       " 'en_tech_support',\n",
       " 'en_streaming_tv',\n",
       " 'en_streaming_movies',\n",
       " 'gender_Male',\n",
       " 'has_partner',\n",
       " 'has_dependents',\n",
       " 'has_phone_service',\n",
       " 'has_paperless_billing',\n",
       " 'churned']"
      ]
     },
     "execution_count": 9,
     "metadata": {},
     "output_type": "execute_result"
    }
   ],
   "source": [
    "train.columns.to_list()#head()\n",
    "#"
   ]
  },
  {
   "cell_type": "code",
   "execution_count": null,
   "metadata": {},
   "outputs": [],
   "source": []
  },
  {
   "cell_type": "markdown",
   "metadata": {},
   "source": [
    "#### Prepare Takeaways:\n",
    "- There are no duplicates in the dataset\n",
    "- I dropped the column\n",
    "- I changed the total charges which were empty to null values and then replaced them with the same value as the monthly charges for new customers.\n",
    "- Then I changed total charges to a float\n",
    "- Encoded categorical variables\n",
    "- Split the data set into train, validate and test"
   ]
  },
  {
   "cell_type": "markdown",
   "metadata": {},
   "source": [
    "## Explore Data"
   ]
  },
  {
   "cell_type": "code",
   "execution_count": 21,
   "metadata": {},
   "outputs": [],
   "source": [
    "# setting rc parameters for visualizations\n",
    "plt.rc('font', size=14)\n",
    "plt.rc('figure', figsize=(14, 8))"
   ]
  },
  {
   "cell_type": "code",
   "execution_count": 7,
   "metadata": {},
   "outputs": [
    {
     "data": {
      "text/plain": [
       "0    2897\n",
       "1    1046\n",
       "Name: churned, dtype: int64"
      ]
     },
     "execution_count": 7,
     "metadata": {},
     "output_type": "execute_result"
    }
   ],
   "source": [
    "# checking overall churn across all customers in train split\n",
    "train.churned.value_counts()"
   ]
  },
  {
   "cell_type": "code",
   "execution_count": 8,
   "metadata": {},
   "outputs": [
    {
     "data": {
      "image/png": "[encoded data removed]",
      "text/plain": [
       "<Figure size 432x288 with 1 Axes>"
      ]
     },
     "metadata": {
      "needs_background": "light"
     },
     "output_type": "display_data"
    }
   ],
   "source": [
    "# visualizing overall churn rate\n",
    "train.churned.value_counts().sort_index().plot.bar()\n",
    "churn_rate = train.churned.mean()\n",
    "plt.title(f'Overall churn rate: {churn_rate:.2%}')\n",
    "plt.xlabel('Churned')\n",
    "plt.ylabel('Number of customers')\n",
    "plt.show()"
   ]
  },
  {
   "cell_type": "markdown",
   "metadata": {},
   "source": [
    "#### Takeaways:\n",
    "- Overall churn rate is not very high\n",
    "- However, we want to explore ways to reduce churn so we can increase customer retention"
   ]
  },
  {
   "cell_type": "code",
   "execution_count": 10,
   "metadata": {},
   "outputs": [],
   "source": [
    "# Define Categorical variables \n",
    "cat_vars = ['payment_type_id','senior_citizen','en_contract_type',\n",
    "'en_multiple_lines','en_has_fiber','en_has_DSL','has_internet',\n",
    "'en_online_security','en_online_backup','en_device_protection',\n",
    "'en_tech_support','en_streaming_tv','en_streaming_movies',\n",
    "'gender_Male','has_partner','has_dependents','has_phone_service',\n",
    "'has_paperless_billing','churned']"
   ]
  },
  {
   "cell_type": "code",
   "execution_count": null,
   "metadata": {},
   "outputs": [],
   "source": []
  },
  {
   "cell_type": "code",
   "execution_count": 12,
   "metadata": {},
   "outputs": [],
   "source": [
    "# Define quantitative variables\n",
    "quant_vars = ['monthly_charges','total_charges','tenure']"
   ]
  },
  {
   "cell_type": "code",
   "execution_count": 13,
   "metadata": {},
   "outputs": [
    {
     "name": "stdout",
     "output_type": "stream",
     "text": [
      "Frequency table of payment_type_id\n",
      "   payment_type_id  Count  Percent\n",
      "1                4   1320    33.48\n",
      "2                3    892    22.62\n",
      "3                1    879    22.29\n",
      "4                2    852    21.61\n",
      "\n",
      "\n",
      "Frequency table of senior_citizen\n",
      "   senior_citizen  Count  Percent\n",
      "0               0   3303    83.77\n",
      "1               1    640    16.23\n",
      "\n",
      "\n",
      "Frequency table of en_contract_type\n",
      "   en_contract_type  Count  Percent\n",
      "0                 2   2162    54.83\n",
      "2                 1    974    24.70\n",
      "1                 0    807    20.47\n",
      "\n",
      "\n",
      "Frequency table of en_multiple_lines\n",
      "   en_multiple_lines  Count  Percent\n",
      "0                  1   2277    57.75\n",
      "1                  0   1666    42.25\n",
      "\n",
      "\n",
      "Frequency table of en_has_fiber\n",
      "   en_has_fiber  Count  Percent\n",
      "0             0   2203    55.87\n",
      "1             1   1740    44.13\n",
      "\n",
      "\n",
      "Frequency table of en_has_DSL\n",
      "   en_has_DSL  Count  Percent\n",
      "0           0   2578    65.38\n",
      "1           1   1365    34.62\n",
      "\n",
      "\n",
      "Frequency table of has_internet\n",
      "   has_internet  Count  Percent\n",
      "1             0   3105    78.75\n",
      "0             1    838    21.25\n",
      "\n",
      "\n",
      "Frequency table of en_online_security\n",
      "   en_online_security  Count  Percent\n",
      "0                   0   2794    70.86\n",
      "1                   1   1149    29.14\n",
      "\n",
      "\n",
      "Frequency table of en_online_backup\n",
      "   en_online_backup  Count  Percent\n",
      "0                 0   2541    64.44\n",
      "1                 1   1402    35.56\n",
      "\n",
      "\n",
      "Frequency table of en_device_protection\n",
      "   en_device_protection  Count  Percent\n",
      "0                     0   2534    64.27\n",
      "1                     1   1409    35.73\n",
      "\n",
      "\n",
      "Frequency table of en_tech_support\n",
      "   en_tech_support  Count  Percent\n",
      "0                0   2759    69.97\n",
      "1                1   1184    30.03\n",
      "\n",
      "\n",
      "Frequency table of en_streaming_tv\n",
      "   en_streaming_tv  Count  Percent\n",
      "0                0   2435    61.76\n",
      "1                1   1508    38.24\n",
      "\n",
      "\n",
      "Frequency table of en_streaming_movies\n",
      "   en_streaming_movies  Count  Percent\n",
      "0                    0   2389    60.59\n",
      "1                    1   1554    39.41\n",
      "\n",
      "\n",
      "Frequency table of gender_Male\n",
      "   gender_Male  Count  Percent\n",
      "1            0   2013    51.05\n",
      "0            1   1930    48.95\n",
      "\n",
      "\n",
      "Frequency table of has_partner\n",
      "   has_partner  Count  Percent\n",
      "0            1   2044    51.84\n",
      "1            0   1899    48.16\n",
      "\n",
      "\n",
      "Frequency table of has_dependents\n",
      "   has_dependents  Count  Percent\n",
      "0               1   2764     70.1\n",
      "1               0   1179     29.9\n",
      "\n",
      "\n",
      "Frequency table of has_phone_service\n",
      "   has_phone_service  Count  Percent\n",
      "1                  1   3550    90.03\n",
      "0                  0    393     9.97\n",
      "\n",
      "\n",
      "Frequency table of has_paperless_billing\n",
      "   has_paperless_billing  Count  Percent\n",
      "1                      1   2324    58.94\n",
      "0                      0   1619    41.06\n",
      "\n",
      "\n",
      "Frequency table of churned\n",
      "   churned  Count  Percent\n",
      "0        0   2897    73.47\n",
      "1        1   1046    26.53\n",
      "\n",
      "\n",
      "Bar Plot of payment_type_id\n"
     ]
    },
    {
     "data": {
      "image/png": "[encoded data removed]",
      "text/plain": [
       "<Figure size 432x288 with 1 Axes>"
      ]
     },
     "metadata": {
      "needs_background": "light"
     },
     "output_type": "display_data"
    },
    {
     "name": "stdout",
     "output_type": "stream",
     "text": [
      "Bar Plot of senior_citizen\n"
     ]
    },
    {
     "data": {
      "image/png": "[encoded data removed]",
      "text/plain": [
       "<Figure size 432x288 with 1 Axes>"
      ]
     },
     "metadata": {
      "needs_background": "light"
     },
     "output_type": "display_data"
    },
    {
     "name": "stdout",
     "output_type": "stream",
     "text": [
      "Bar Plot of en_contract_type\n"
     ]
    },
    {
     "data": {
      "image/png": "[encoded data removed]",
      "text/plain": [
       "<Figure size 432x288 with 1 Axes>"
      ]
     },
     "metadata": {
      "needs_background": "light"
     },
     "output_type": "display_data"
    },
    {
     "name": "stdout",
     "output_type": "stream",
     "text": [
      "Bar Plot of en_multiple_lines\n"
     ]
    },
    {
     "data": {
      "image/png": "[encoded data removed]",
      "text/plain": [
       "<Figure size 432x288 with 1 Axes>"
      ]
     },
     "metadata": {
      "needs_background": "light"
     },
     "output_type": "display_data"
    },
    {
     "name": "stdout",
     "output_type": "stream",
     "text": [
      "Bar Plot of en_has_fiber\n"
     ]
    },
    {
     "data": {
      "image/png": "[encoded data removed]",
      "text/plain": [
       "<Figure size 432x288 with 1 Axes>"
      ]
     },
     "metadata": {
      "needs_background": "light"
     },
     "output_type": "display_data"
    },
    {
     "name": "stdout",
     "output_type": "stream",
     "text": [
      "Bar Plot of en_has_DSL\n"
     ]
    },
    {
     "data": {
      "image/png": "[encoded data removed]",
      "text/plain": [
       "<Figure size 432x288 with 1 Axes>"
      ]
     },
     "metadata": {
      "needs_background": "light"
     },
     "output_type": "display_data"
    },
    {
     "name": "stdout",
     "output_type": "stream",
     "text": [
      "Bar Plot of has_internet\n"
     ]
    },
    {
     "data": {
      "image/png": "[encoded data removed]",
      "text/plain": [
       "<Figure size 432x288 with 1 Axes>"
      ]
     },
     "metadata": {
      "needs_background": "light"
     },
     "output_type": "display_data"
    },
    {
     "name": "stdout",
     "output_type": "stream",
     "text": [
      "Bar Plot of en_online_security\n"
     ]
    },
    {
     "data": {
      "image/png": "[encoded data removed]",
      "text/plain": [
       "<Figure size 432x288 with 1 Axes>"
      ]
     },
     "metadata": {
      "needs_background": "light"
     },
     "output_type": "display_data"
    },
    {
     "name": "stdout",
     "output_type": "stream",
     "text": [
      "Bar Plot of en_online_backup\n"
     ]
    },
    {
     "data": {
      "image/png": "[encoded data removed]",
      "text/plain": [
       "<Figure size 432x288 with 1 Axes>"
      ]
     },
     "metadata": {
      "needs_background": "light"
     },
     "output_type": "display_data"
    },
    {
     "name": "stdout",
     "output_type": "stream",
     "text": [
      "Bar Plot of en_device_protection\n"
     ]
    },
    {
     "data": {
      "image/png": "[encoded data removed]",
      "text/plain": [
       "<Figure size 432x288 with 1 Axes>"
      ]
     },
     "metadata": {
      "needs_background": "light"
     },
     "output_type": "display_data"
    },
    {
     "name": "stdout",
     "output_type": "stream",
     "text": [
      "Bar Plot of en_tech_support\n"
     ]
    },
    {
     "data": {
      "image/png": "[encoded data removed]",
      "text/plain": [
       "<Figure size 432x288 with 1 Axes>"
      ]
     },
     "metadata": {
      "needs_background": "light"
     },
     "output_type": "display_data"
    },
    {
     "name": "stdout",
     "output_type": "stream",
     "text": [
      "Bar Plot of en_streaming_tv\n"
     ]
    },
    {
     "data": {
      "image/png": "[encoded data removed]",
      "text/plain": [
       "<Figure size 432x288 with 1 Axes>"
      ]
     },
     "metadata": {
      "needs_background": "light"
     },
     "output_type": "display_data"
    },
    {
     "name": "stdout",
     "output_type": "stream",
     "text": [
      "Bar Plot of en_streaming_movies\n"
     ]
    },
    {
     "data": {
      "image/png": "[encoded data removed]",
      "text/plain": [
       "<Figure size 432x288 with 1 Axes>"
      ]
     },
     "metadata": {
      "needs_background": "light"
     },
     "output_type": "display_data"
    },
    {
     "name": "stdout",
     "output_type": "stream",
     "text": [
      "Bar Plot of gender_Male\n"
     ]
    },
    {
     "data": {
      "image/png": "[encoded data removed]",
      "text/plain": [
       "<Figure size 432x288 with 1 Axes>"
      ]
     },
     "metadata": {
      "needs_background": "light"
     },
     "output_type": "display_data"
    },
    {
     "name": "stdout",
     "output_type": "stream",
     "text": [
      "Bar Plot of has_partner\n"
     ]
    },
    {
     "data": {
      "image/png": "[encoded data removed]",
      "text/plain": [
       "<Figure size 432x288 with 1 Axes>"
      ]
     },
     "metadata": {
      "needs_background": "light"
     },
     "output_type": "display_data"
    },
    {
     "name": "stdout",
     "output_type": "stream",
     "text": [
      "Bar Plot of has_dependents\n"
     ]
    },
    {
     "data": {
      "image/png": "[encoded data removed]",
      "text/plain": [
       "<Figure size 432x288 with 1 Axes>"
      ]
     },
     "metadata": {
      "needs_background": "light"
     },
     "output_type": "display_data"
    },
    {
     "name": "stdout",
     "output_type": "stream",
     "text": [
      "Bar Plot of has_phone_service\n"
     ]
    },
    {
     "data": {
      "image/png": "[encoded data removed]",
      "text/plain": [
       "<Figure size 432x288 with 1 Axes>"
      ]
     },
     "metadata": {
      "needs_background": "light"
     },
     "output_type": "display_data"
    },
    {
     "name": "stdout",
     "output_type": "stream",
     "text": [
      "Bar Plot of has_paperless_billing\n"
     ]
    },
    {
     "data": {
      "image/png": "[encoded data removed]",
      "text/plain": [
       "<Figure size 432x288 with 1 Axes>"
      ]
     },
     "metadata": {
      "needs_background": "light"
     },
     "output_type": "display_data"
    },
    {
     "name": "stdout",
     "output_type": "stream",
     "text": [
      "Bar Plot of churned\n"
     ]
    },
    {
     "data": {
      "image/png": "[encoded data removed]",
      "text/plain": [
       "<Figure size 432x288 with 1 Axes>"
      ]
     },
     "metadata": {
      "needs_background": "light"
     },
     "output_type": "display_data"
    },
    {
     "data": {
      "image/png": "[encoded data removed]",
      "text/plain": [
       "<Figure size 432x288 with 1 Axes>"
      ]
     },
     "metadata": {
      "needs_background": "light"
     },
     "output_type": "display_data"
    },
    {
     "data": {
      "image/png": "[encoded data removed]",
      "text/plain": [
       "<Figure size 432x288 with 1 Axes>"
      ]
     },
     "metadata": {
      "needs_background": "light"
     },
     "output_type": "display_data"
    },
    {
     "data": {
      "image/png": "[encoded data removed]",
      "text/plain": [
       "<Figure size 432x288 with 1 Axes>"
      ]
     },
     "metadata": {
      "needs_background": "light"
     },
     "output_type": "display_data"
    },
    {
     "data": {
      "image/png": "[encoded data removed]",
      "text/plain": [
       "<Figure size 432x288 with 1 Axes>"
      ]
     },
     "metadata": {
      "needs_background": "light"
     },
     "output_type": "display_data"
    },
    {
     "data": {
      "image/png": "[encoded data removed]",
      "text/plain": [
       "<Figure size 432x288 with 1 Axes>"
      ]
     },
     "metadata": {
      "needs_background": "light"
     },
     "output_type": "display_data"
    },
    {
     "data": {
      "image/png": "[encoded data removed]",
      "text/plain": [
       "<Figure size 432x288 with 1 Axes>"
      ]
     },
     "metadata": {
      "needs_background": "light"
     },
     "output_type": "display_data"
    },
    {
     "name": "stdout",
     "output_type": "stream",
     "text": [
      "Summary Statistics of monthly_charges\n",
      "count    3943.000000\n",
      "mean       65.102790\n",
      "std        30.128631\n",
      "min        18.550000\n",
      "25%        36.200000\n",
      "50%        70.400000\n",
      "75%        90.050000\n",
      "max       118.650000\n",
      "Name: monthly_charges, dtype: float64\n",
      "\n",
      "\n",
      "Summary Statistics of total_charges\n",
      "count    3943.000000\n",
      "mean     2310.686787\n",
      "std      2275.714986\n",
      "min        18.800000\n",
      "25%       416.175000\n",
      "50%      1415.000000\n",
      "75%      3816.625000\n",
      "max      8670.100000\n",
      "Name: total_charges, dtype: float64\n",
      "\n",
      "\n",
      "Summary Statistics of tenure\n",
      "count    3943.000000\n",
      "mean       32.673852\n",
      "std        24.472862\n",
      "min         0.000000\n",
      "25%         9.000000\n",
      "50%        29.000000\n",
      "75%        56.000000\n",
      "max        72.000000\n",
      "Name: tenure, dtype: float64\n",
      "\n",
      "\n"
     ]
    }
   ],
   "source": [
    "explore.explore_univariate(train, cat_vars, quant_vars)\n",
    "\n",
    "# 33% customers use payment type 4, the rest are quite equal proportions\n",
    "# 84% cust not senior citizens\n",
    "# 54% cust have 2 yr contract\n",
    "# fewest cust have month to month contract\n",
    "# over 57% cust have multiple lines\n",
    "# over 55% cust dont have fiber but 44% do\n",
    "# 34% cust have dsl\n",
    "# 78% cust dont have internet service\n",
    "# 71% cust dont have online sec\n",
    "# 64% cust dont have online_backup\n",
    "# 64% cust dont have device_protection\n",
    "# 70% cust dont have tech supp\n",
    "# 62% cust dont have stream tv\n",
    "# 61% cust dont have stream movies\n",
    "# 51% cust are women\n",
    "# 52% cust have partners\n",
    "# 70% cust have dependents\n",
    "# 90% cust have phone service\n",
    "# 59% cust have paperless bill\n",
    "# 27% cust churned"
   ]
  },
  {
   "cell_type": "code",
   "execution_count": 14,
   "metadata": {},
   "outputs": [
    {
     "name": "stdout",
     "output_type": "stream",
     "text": [
      "   payment_type_id  count  percent\n",
      "1                4   1320    33.48\n",
      "2                3    892    22.62\n",
      "3                1    879    22.29\n",
      "4                2    852    21.61\n",
      "-------------------------------\n"
     ]
    },
    {
     "data": {
      "image/png": "[encoded data removed]",
      "text/plain": [
       "<Figure size 432x288 with 1 Axes>"
      ]
     },
     "metadata": {
      "needs_background": "light"
     },
     "output_type": "display_data"
    },
    {
     "name": "stdout",
     "output_type": "stream",
     "text": [
      "   senior_citizen  count  percent\n",
      "0               0   3303    83.77\n",
      "1               1    640    16.23\n",
      "-------------------------------\n"
     ]
    },
    {
     "data": {
      "image/png": "[encoded data removed]",
      "text/plain": [
       "<Figure size 432x288 with 1 Axes>"
      ]
     },
     "metadata": {
      "needs_background": "light"
     },
     "output_type": "display_data"
    },
    {
     "name": "stdout",
     "output_type": "stream",
     "text": [
      "   en_contract_type  count  percent\n",
      "0                 2   2162    54.83\n",
      "2                 1    974    24.70\n",
      "1                 0    807    20.47\n",
      "-------------------------------\n"
     ]
    },
    {
     "data": {
      "image/png": "[encoded data removed]",
      "text/plain": [
       "<Figure size 432x288 with 1 Axes>"
      ]
     },
     "metadata": {
      "needs_background": "light"
     },
     "output_type": "display_data"
    },
    {
     "name": "stdout",
     "output_type": "stream",
     "text": [
      "   en_multiple_lines  count  percent\n",
      "0                  1   2277    57.75\n",
      "1                  0   1666    42.25\n",
      "-------------------------------\n"
     ]
    },
    {
     "data": {
      "image/png": "[encoded data removed]",
      "text/plain": [
       "<Figure size 432x288 with 1 Axes>"
      ]
     },
     "metadata": {
      "needs_background": "light"
     },
     "output_type": "display_data"
    },
    {
     "name": "stdout",
     "output_type": "stream",
     "text": [
      "   en_has_fiber  count  percent\n",
      "0             0   2203    55.87\n",
      "1             1   1740    44.13\n",
      "-------------------------------\n"
     ]
    },
    {
     "data": {
      "image/png": "[encoded data removed]",
      "text/plain": [
       "<Figure size 432x288 with 1 Axes>"
      ]
     },
     "metadata": {
      "needs_background": "light"
     },
     "output_type": "display_data"
    },
    {
     "name": "stdout",
     "output_type": "stream",
     "text": [
      "   en_has_DSL  count  percent\n",
      "0           0   2578    65.38\n",
      "1           1   1365    34.62\n",
      "-------------------------------\n"
     ]
    },
    {
     "data": {
      "image/png": "[encoded data removed]",
      "text/plain": [
       "<Figure size 432x288 with 1 Axes>"
      ]
     },
     "metadata": {
      "needs_background": "light"
     },
     "output_type": "display_data"
    },
    {
     "name": "stdout",
     "output_type": "stream",
     "text": [
      "   has_internet  count  percent\n",
      "1             0   3105    78.75\n",
      "0             1    838    21.25\n",
      "-------------------------------\n"
     ]
    },
    {
     "data": {
      "image/png": "[encoded data removed]",
      "text/plain": [
       "<Figure size 432x288 with 1 Axes>"
      ]
     },
     "metadata": {
      "needs_background": "light"
     },
     "output_type": "display_data"
    },
    {
     "name": "stdout",
     "output_type": "stream",
     "text": [
      "   en_online_security  count  percent\n",
      "0                   0   2794    70.86\n",
      "1                   1   1149    29.14\n",
      "-------------------------------\n"
     ]
    },
    {
     "data": {
      "image/png": "[encoded data removed]",
      "text/plain": [
       "<Figure size 432x288 with 1 Axes>"
      ]
     },
     "metadata": {
      "needs_background": "light"
     },
     "output_type": "display_data"
    },
    {
     "name": "stdout",
     "output_type": "stream",
     "text": [
      "   en_online_backup  count  percent\n",
      "0                 0   2541    64.44\n",
      "1                 1   1402    35.56\n",
      "-------------------------------\n"
     ]
    },
    {
     "data": {
      "image/png": "[encoded data removed]",
      "text/plain": [
       "<Figure size 432x288 with 1 Axes>"
      ]
     },
     "metadata": {
      "needs_background": "light"
     },
     "output_type": "display_data"
    },
    {
     "name": "stdout",
     "output_type": "stream",
     "text": [
      "   en_device_protection  count  percent\n",
      "0                     0   2534    64.27\n",
      "1                     1   1409    35.73\n",
      "-------------------------------\n"
     ]
    },
    {
     "data": {
      "image/png": "[encoded data removed]",
      "text/plain": [
       "<Figure size 432x288 with 1 Axes>"
      ]
     },
     "metadata": {
      "needs_background": "light"
     },
     "output_type": "display_data"
    },
    {
     "name": "stdout",
     "output_type": "stream",
     "text": [
      "   en_tech_support  count  percent\n",
      "0                0   2759    69.97\n",
      "1                1   1184    30.03\n",
      "-------------------------------\n"
     ]
    },
    {
     "data": {
      "image/png": "[encoded data removed]",
      "text/plain": [
       "<Figure size 432x288 with 1 Axes>"
      ]
     },
     "metadata": {
      "needs_background": "light"
     },
     "output_type": "display_data"
    },
    {
     "name": "stdout",
     "output_type": "stream",
     "text": [
      "   en_streaming_tv  count  percent\n",
      "0                0   2435    61.76\n",
      "1                1   1508    38.24\n",
      "-------------------------------\n"
     ]
    },
    {
     "data": {
      "image/png": "[encoded data removed]",
      "text/plain": [
       "<Figure size 432x288 with 1 Axes>"
      ]
     },
     "metadata": {
      "needs_background": "light"
     },
     "output_type": "display_data"
    },
    {
     "name": "stdout",
     "output_type": "stream",
     "text": [
      "   en_streaming_movies  count  percent\n",
      "0                    0   2389    60.59\n",
      "1                    1   1554    39.41\n",
      "-------------------------------\n"
     ]
    },
    {
     "data": {
      "image/png": "[encoded data removed]",
      "text/plain": [
       "<Figure size 432x288 with 1 Axes>"
      ]
     },
     "metadata": {
      "needs_background": "light"
     },
     "output_type": "display_data"
    },
    {
     "name": "stdout",
     "output_type": "stream",
     "text": [
      "   gender_Male  count  percent\n",
      "1            0   2013    51.05\n",
      "0            1   1930    48.95\n",
      "-------------------------------\n"
     ]
    },
    {
     "data": {
      "image/png": "[encoded data removed]",
      "text/plain": [
       "<Figure size 432x288 with 1 Axes>"
      ]
     },
     "metadata": {
      "needs_background": "light"
     },
     "output_type": "display_data"
    },
    {
     "name": "stdout",
     "output_type": "stream",
     "text": [
      "   has_partner  count  percent\n",
      "0            1   2044    51.84\n",
      "1            0   1899    48.16\n",
      "-------------------------------\n"
     ]
    },
    {
     "data": {
      "image/png": "[encoded data removed]",
      "text/plain": [
       "<Figure size 432x288 with 1 Axes>"
      ]
     },
     "metadata": {
      "needs_background": "light"
     },
     "output_type": "display_data"
    },
    {
     "name": "stdout",
     "output_type": "stream",
     "text": [
      "   has_dependents  count  percent\n",
      "0               1   2764     70.1\n",
      "1               0   1179     29.9\n",
      "-------------------------------\n"
     ]
    },
    {
     "data": {
      "image/png": "[encoded data removed]",
      "text/plain": [
       "<Figure size 432x288 with 1 Axes>"
      ]
     },
     "metadata": {
      "needs_background": "light"
     },
     "output_type": "display_data"
    },
    {
     "name": "stdout",
     "output_type": "stream",
     "text": [
      "   has_phone_service  count  percent\n",
      "1                  1   3550    90.03\n",
      "0                  0    393     9.97\n",
      "-------------------------------\n"
     ]
    },
    {
     "data": {
      "image/png": "[encoded data removed]",
      "text/plain": [
       "<Figure size 432x288 with 1 Axes>"
      ]
     },
     "metadata": {
      "needs_background": "light"
     },
     "output_type": "display_data"
    },
    {
     "name": "stdout",
     "output_type": "stream",
     "text": [
      "   has_paperless_billing  count  percent\n",
      "1                      1   2324    58.94\n",
      "0                      0   1619    41.06\n",
      "-------------------------------\n"
     ]
    },
    {
     "data": {
      "image/png": "[encoded data removed]",
      "text/plain": [
       "<Figure size 432x288 with 1 Axes>"
      ]
     },
     "metadata": {
      "needs_background": "light"
     },
     "output_type": "display_data"
    },
    {
     "name": "stdout",
     "output_type": "stream",
     "text": [
      "   churned  count  percent\n",
      "0        0   2897    73.47\n",
      "1        1   1046    26.53\n",
      "-------------------------------\n"
     ]
    },
    {
     "data": {
      "image/png": "[encoded data removed]",
      "text/plain": [
       "<Figure size 432x288 with 1 Axes>"
      ]
     },
     "metadata": {
      "needs_background": "light"
     },
     "output_type": "display_data"
    },
    {
     "data": {
      "image/png": "[encoded data removed]",
      "text/plain": [
       "<Figure size 432x288 with 1 Axes>"
      ]
     },
     "metadata": {
      "needs_background": "light"
     },
     "output_type": "display_data"
    },
    {
     "name": "stdout",
     "output_type": "stream",
     "text": [
      "count    3943.000000\n",
      "mean       65.102790\n",
      "std        30.128631\n",
      "min        18.550000\n",
      "25%        36.200000\n",
      "50%        70.400000\n",
      "75%        90.050000\n",
      "max       118.650000\n",
      "Name: monthly_charges, dtype: float64\n"
     ]
    },
    {
     "data": {
      "image/png": "[encoded data removed]",
      "text/plain": [
       "<Figure size 720x360 with 1 Axes>"
      ]
     },
     "metadata": {
      "needs_background": "light"
     },
     "output_type": "display_data"
    },
    {
     "data": {
      "image/png": "[encoded data removed]",
      "text/plain": [
       "<Figure size 432x288 with 1 Axes>"
      ]
     },
     "metadata": {
      "needs_background": "light"
     },
     "output_type": "display_data"
    },
    {
     "name": "stdout",
     "output_type": "stream",
     "text": [
      "count    3943.000000\n",
      "mean     2310.686787\n",
      "std      2275.714986\n",
      "min        18.800000\n",
      "25%       416.175000\n",
      "50%      1415.000000\n",
      "75%      3816.625000\n",
      "max      8670.100000\n",
      "Name: total_charges, dtype: float64\n"
     ]
    },
    {
     "data": {
      "image/png": "[encoded data removed]",
      "text/plain": [
       "<Figure size 720x360 with 1 Axes>"
      ]
     },
     "metadata": {
      "needs_background": "light"
     },
     "output_type": "display_data"
    },
    {
     "data": {
      "image/png": "[encoded data removed]",
      "text/plain": [
       "<Figure size 432x288 with 1 Axes>"
      ]
     },
     "metadata": {
      "needs_background": "light"
     },
     "output_type": "display_data"
    },
    {
     "name": "stdout",
     "output_type": "stream",
     "text": [
      "count    3943.000000\n",
      "mean       32.673852\n",
      "std        24.472862\n",
      "min         0.000000\n",
      "25%         9.000000\n",
      "50%        29.000000\n",
      "75%        56.000000\n",
      "max        72.000000\n",
      "Name: tenure, dtype: float64\n"
     ]
    },
    {
     "data": {
      "image/png": "[encoded data removed]",
      "text/plain": [
       "<Figure size 720x360 with 1 Axes>"
      ]
     },
     "metadata": {
      "needs_background": "light"
     },
     "output_type": "display_data"
    }
   ],
   "source": [
    "explore.explore_bivariate(train,'churned', cat_vars, quant_vars, alternative_h='two-sided')\n",
    "# all pmt types except 1 have below avg churn rate\n",
    "# most cust use pmt type 4\n",
    "# most cust younger \n",
    "# "
   ]
  },
  {
   "cell_type": "markdown",
   "metadata": {},
   "source": [
    "### Explore Takeaways:\n",
    "- 33% customers use payment type 4, the rest are quite equal proportions\n",
    "- 84% cust not senior citizens\n",
    "- 54% cust have 2 yr contract\n",
    "- fewest cust have month to month contract\n",
    "- over 57% cust have multiple lines\n",
    "- over 55% cust dont have fiber but 44% do\n",
    "- 34% cust have dsl\n",
    "- 78% cust dont have internet service\n",
    "- 71% cust dont have online sec\n",
    "- 64% cust dont have online_backup\n",
    "- 64% cust dont have device_protection\n",
    "- 70% cust dont have tech supp\n",
    "- 62% cust dont have stream tv\n",
    "- 61% cust dont have stream movies\n",
    "- 51% cust are women\n",
    "- 52% cust have partners\n",
    "- 70% cust have dependents\n",
    "- 90% cust have phone service\n",
    "- 59% cust have paperless bill\n",
    "- 27% cust churned"
   ]
  },
  {
   "cell_type": "code",
   "execution_count": 15,
   "metadata": {},
   "outputs": [],
   "source": [
    "# sr cit\n",
    "# pmt type\n",
    "# phone ser\n",
    "# most cust churn in the first few months\n",
    "# total charges dist right skewed -  more customers with lower total charges\n",
    "# from the boxplot looks like customers who churn have higher monthly charges\n",
    "# "
   ]
  },
  {
   "cell_type": "code",
   "execution_count": null,
   "metadata": {},
   "outputs": [],
   "source": []
  }
 ],
 "metadata": {
  "kernelspec": {
   "display_name": "Python 3",
   "language": "python",
   "name": "python3"
  },
  "language_info": {
   "codemirror_mode": {
    "name": "ipython",
    "version": 3
   },
   "file_extension": ".py",
   "mimetype": "text/x-python",
   "name": "python",
   "nbconvert_exporter": "python",
   "pygments_lexer": "ipython3",
   "version": "3.8.5"
  }
 },
 "nbformat": 4,
 "nbformat_minor": 4
}
